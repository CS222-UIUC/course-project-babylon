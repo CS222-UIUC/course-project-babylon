{
 "cells": [
  {
   "cell_type": "code",
   "execution_count": 1,
   "metadata": {},
   "outputs": [],
   "source": [
    "import numpy as np"
   ]
  },
  {
   "cell_type": "code",
   "execution_count": 3,
   "metadata": {},
   "outputs": [],
   "source": [
    "import os\n",
    "import alpaca_trade_api as tradeapi\n",
    "from alpaca.trading.client import TradingClient\n",
    "from math import floor\n",
    "\n",
    "API_KEY = None\n",
    "SECRET_KEY = None\n",
    "BASE_URL = None\n",
    "CLIENT_API = None"
   ]
  },
  {
   "cell_type": "code",
   "execution_count": null,
   "metadata": {},
   "outputs": [],
   "source": [
    "class Execution:\n",
    "    \"\"\" \n",
    "    --Tass created Feb 15 2023--\n",
    "    \n",
    "    A class used to \n",
    "    - add, delete crypto symbols that bot control\n",
    "    - start, pause the bot\n",
    "    \n",
    "    \"\"\"\n",
    "    def __init__(self):\n",
    "        self._SYMBOLS = []\n",
    "        self._BOTS = {}\n",
    "        self.bot = None\n",
    "        self.account = None\n",
    "        self.cash_to_spend = 0;\n",
    "        \n",
    "    def login(self, api, secret):\n",
    "        API_KEY = api\n",
    "        SECRET_KEY = secret\n",
    "        if (self.set_client() and self.set_account()):\n",
    "            return 1\n",
    "        return 0"
   ]
  }
 ],
 "metadata": {
  "kernelspec": {
   "display_name": "base",
   "language": "python",
   "name": "python3"
  },
  "language_info": {
   "codemirror_mode": {
    "name": "ipython",
    "version": 3
   },
   "file_extension": ".py",
   "mimetype": "text/x-python",
   "name": "python",
   "nbconvert_exporter": "python",
   "pygments_lexer": "ipython3",
   "version": "3.8.8"
  },
  "orig_nbformat": 4,
  "vscode": {
   "interpreter": {
    "hash": "6ad2b876f0b6755003df92a75cacc0277e305d2818d4d3f2148b8bde5df39cf6"
   }
  }
 },
 "nbformat": 4,
 "nbformat_minor": 2
}
